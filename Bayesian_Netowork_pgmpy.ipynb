{
 "cells": [
  {
   "cell_type": "code",
   "execution_count": 28,
   "id": "45510cda-b639-490e-ab00-04d520d298c1",
   "metadata": {},
   "outputs": [],
   "source": [
    "from pgmpy.models import BayesianNetwork\n",
    "from pgmpy.factors.discrete import TabularCPD\n",
    "\n",
    "# Define the structure of the Bayesian network\n",
    "model = BayesianNetwork([('Difficulty', 'Marks'), ('Intelligence', 'Marks'), ('Marks', 'Admission')])\n",
    "\n",
    "\n",
    "\n"
   ]
  },
  {
   "cell_type": "code",
   "execution_count": 29,
   "id": "98f5721c-a6c6-46cd-b371-7d80ddb89ed0",
   "metadata": {},
   "outputs": [],
   "source": [
    "#conditional probability distributions\n",
    "cpd_difficulty = TabularCPD(variable='Difficulty', variable_card=2, values=[[0.7], [0.3]])\n",
    "cpd_intelligence = TabularCPD(variable='Intelligence', variable_card=2, values=[[0.8], [0.2]])\n",
    "\n",
    "cpd_marks = TabularCPD(variable='Marks', variable_card=2,\n",
    "                       evidence=['Difficulty', 'Intelligence'],\n",
    "                       evidence_card=[2, 2],\n",
    "                       values=[[0.6, 0.9, 0.5, 0.8],\n",
    "                               [0.4, 0.1, 0.5, 0.2]])\n",
    "\n",
    "cpd_admission = TabularCPD(variable='Admission', variable_card=2,\n",
    "                           evidence=['Marks'],\n",
    "                           evidence_card=[2],\n",
    "                           values=[[0.6, 0.4],\n",
    "                                   [0.4, 0.6]],  \n",
    "                           )\n",
    "\n",
    "\n",
    "\n",
    "# Add CPDs to the model\n",
    "model.add_cpds(cpd_difficulty, cpd_intelligence, cpd_marks, cpd_admission)\n"
   ]
  },
  {
   "cell_type": "code",
   "execution_count": 30,
   "id": "ee64e081-b2b1-4cf7-889f-3ff362c2f045",
   "metadata": {},
   "outputs": [
    {
     "name": "stdout",
     "output_type": "stream",
     "text": [
      "True\n"
     ]
    }
   ],
   "source": [
    "# Check if the model is correctly defined\n",
    "print(model.check_model())\n",
    "\n"
   ]
  },
  {
   "cell_type": "code",
   "execution_count": 31,
   "id": "062b105a-e5c2-4e41-a0cf-f73ef70c7ef9",
   "metadata": {},
   "outputs": [
    {
     "name": "stdout",
     "output_type": "stream",
     "text": [
      "+--------------+------------------+\n",
      "| Admission    |   phi(Admission) |\n",
      "+==============+==================+\n",
      "| Admission(0) |           0.4000 |\n",
      "+--------------+------------------+\n",
      "| Admission(1) |           0.6000 |\n",
      "+--------------+------------------+\n"
     ]
    }
   ],
   "source": [
    "from pgmpy.inference import VariableElimination\n",
    "\n",
    "inference = VariableElimination(model)\n",
    "result = inference.query(variables=['Admission'], evidence={'Difficulty': 1, 'Intelligence': 1, 'Marks': 1})\n",
    "print(result)"
   ]
  },
  {
   "cell_type": "code",
   "execution_count": 12,
   "id": "ca54310e-ddab-4a0b-b54d-e928851d7fba",
   "metadata": {},
   "outputs": [
    {
     "data": {
      "text/html": [
       "<img src=\"https://d1jnx9ba8s6j9r.cloudfront.net/blog/wp-content/uploads/2019/07/Bayesian-Networks-Example-Bayesian-Networks-Edureka.png\" width=\"900\" height=\"900\"/>"
      ],
      "text/plain": [
       "<IPython.core.display.Image object>"
      ]
     },
     "execution_count": 12,
     "metadata": {},
     "output_type": "execute_result"
    }
   ],
   "source": [
    "from IPython.display import Image\n",
    "\n",
    "Image(url='https://d1jnx9ba8s6j9r.cloudfront.net/blog/wp-content/uploads/2019/07/Bayesian-Networks-Example-Bayesian-Networks-Edureka.png', width=300, height=900)\n"
   ]
  },
  {
   "cell_type": "code",
   "execution_count": null,
   "id": "97683191-8b84-4bd5-b151-7d286d4fc485",
   "metadata": {},
   "outputs": [],
   "source": []
  }
 ],
 "metadata": {
  "kernelspec": {
   "display_name": "Python 3 (ipykernel)",
   "language": "python",
   "name": "python3"
  },
  "language_info": {
   "codemirror_mode": {
    "name": "ipython",
    "version": 3
   },
   "file_extension": ".py",
   "mimetype": "text/x-python",
   "name": "python",
   "nbconvert_exporter": "python",
   "pygments_lexer": "ipython3",
   "version": "3.11.8"
  }
 },
 "nbformat": 4,
 "nbformat_minor": 5
}
